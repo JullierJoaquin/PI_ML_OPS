{
 "cells": [
  {
   "cell_type": "markdown",
   "metadata": {},
   "source": [
    "## 04_API"
   ]
  },
  {
   "cell_type": "markdown",
   "metadata": {},
   "source": [
    "Using the FastAPI frameworkv this [API](https://pi-ml-ops-iviw.onrender.com/) provides various endpoints to access and retrieve information related to Steam games and user reviews and the recommendation system through the following endpoints:"
   ]
  },
  {
   "cell_type": "code",
   "execution_count": 2,
   "metadata": {},
   "outputs": [],
   "source": [
    "import ast\n",
    "import fastapi\n",
    "import numpy as np\n",
    "import pandas as pd\n",
    "import pyarrow.parquet as pq\n",
    "from sklearn.metrics.pairwise import cosine_similarity\n",
    "from sklearn.feature_extraction.text import TfidfVectorizer\n",
    "\n",
    "# Instanciate objects\n",
    "vectorizer = TfidfVectorizer()\n",
    "app = fastapi.FastAPI()\n",
    "\n",
    "# Import and process data\n",
    "steam_games = pd.read_csv(\"data/steam_games.csv\", index_col=0, parse_dates=[\"date\"])\n",
    "steam_games[\"genres\"] = steam_games[\"genres\"].fillna(\"[]\")\n",
    "steam_games['genres'] = steam_games['genres'].apply(eval)\n",
    "users_items = pq.read_table('data/users_items.parquet')\n",
    "users_items = users_items.to_pandas()\n",
    "users_reviews = pq.read_table('data/users_reviews.parquet')\n",
    "users_reviews = users_reviews.to_pandas()\n",
    "model_data = pd.read_csv(\"data/model_data.csv\", index_col=0, parse_dates=[\"date\"])\n",
    "model_data['popular_genres'].fillna('', inplace=True)\n",
    "model_data['common_genres'].fillna('', inplace=True)\n",
    "model_data['unpopular_genres'].fillna('', inplace=True)\n",
    "\n",
    "\n",
    "@app.get(\"/\") # Returns a confirmation message and the available endpoints\n",
    "def test():\n",
    "    return {\"API STEAM GAMES ACTIVE\"\n",
    "            \"endpoints\": {\n",
    "                \"/developer/{developer}\": \"Valve\",\n",
    "                \"/user_data/{user_id}\": \"76561197970982479\",\n",
    "                \"/user_for_genre/{genre}\": \"Action\",\n",
    "                \"/best_developer_year/{year}\": 2010,\n",
    "                \"/developer_reviews_analysis/{developer}\": \"Ubisoft\",\n",
    "                \"/recommend/{title}\": \"Counter-Strike\"}}"
   ]
  },
  {
   "cell_type": "markdown",
   "metadata": {},
   "source": [
    "[GET /developer/{developer}](https://pi-ml-ops-iviw.onrender.com/developer/Valve)\n",
    "\n",
    "Returns the amount of items and free contet porcentage for a given developer:"
   ]
  },
  {
   "cell_type": "code",
   "execution_count": 15,
   "metadata": {},
   "outputs": [
    {
     "data": {
      "text/plain": [
       "{'Developer': 'Ubisoft',\n",
       " 'Items by year:': [{'Year': 2016.0,\n",
       "   'Total items': 20.0,\n",
       "   'Free content': 10.0},\n",
       "  {'Year': 2017.0, 'Total items': 11.0, 'Free content': 0.0},\n",
       "  {'Year': 2014.0, 'Total items': 7.0, 'Free content': 0.0},\n",
       "  {'Year': 2003.0, 'Total items': 2.0, 'Free content': 0.0},\n",
       "  {'Year': 2007.0, 'Total items': 2.0, 'Free content': 0.0},\n",
       "  {'Year': 2004.0, 'Total items': 1.0, 'Free content': 0.0},\n",
       "  {'Year': 2005.0, 'Total items': 1.0, 'Free content': 0.0},\n",
       "  {'Year': 2010.0, 'Total items': 1.0, 'Free content': 0.0},\n",
       "  {'Year': 2015.0, 'Total items': 1.0, 'Free content': 0.0}]}"
      ]
     },
     "execution_count": 15,
     "metadata": {},
     "output_type": "execute_result"
    }
   ],
   "source": [
    "@app.get(\"/developer/{developer}\")\n",
    "def developer(developer: str):\n",
    "    # Filter data\n",
    "    developer_data = steam_games[steam_games[\"developer\"] == developer]\n",
    "    if developer_data.empty:\n",
    "        return {\"error\": \"Developer not found\"}\n",
    "    # Find amount of items per year\n",
    "    game_count_by_year = developer_data[\"date\"].dt.year.value_counts()\n",
    "    game_count_by_year_df = pd.DataFrame(game_count_by_year).reset_index()\n",
    "    game_count_by_year_df.columns = [\"year\", \"item_count\"]\n",
    "    # Find amount of free items per year\n",
    "    free_game_count_by_year = developer_data[\"date\"][developer_data[\"price\"] == 0].dt.year.value_counts()\n",
    "    free_game_count_by_year_df = pd.DataFrame(free_game_count_by_year).reset_index()\n",
    "    free_game_count_by_year_df.columns = [\"year\", \"free_item_count\"]\n",
    "    # Create dataframe and calculate free content percentage\n",
    "    game_count_by_year_df = pd.merge(game_count_by_year_df, free_game_count_by_year_df, on=\"year\", how=\"left\")    \n",
    "    game_count_by_year_df[\"free_content\"] = game_count_by_year_df[\"free_item_count\"] * 100 / game_count_by_year_df[\"item_count\"]\n",
    "    game_count_by_year_df.drop(columns=\"free_item_count\", inplace=True)\n",
    "    game_count_by_year_df[\"free_content\"].fillna(0, inplace=True)\n",
    "    # Create JSON and return\n",
    "    list = []\n",
    "    for i, row in game_count_by_year_df.iterrows():\n",
    "        list.append({\"Year\": row[\"year\"], \"Total items\": row[\"item_count\"], \"Free content\": row[\"free_content\"]})\n",
    "    return {\"Developer\": developer, \"Items by year:\": list}\n",
    "\n",
    "developer(\"Ubisoft\")"
   ]
  },
  {
   "cell_type": "markdown",
   "metadata": {},
   "source": [
    "[GET /userdata/{user_id}](https://pi-ml-ops-iviw.onrender.com/userdata/76561197970982479)\n",
    "\n",
    "Returns the total spent money, the recomendation percentage and the total amount of items for a given user:"
   ]
  },
  {
   "cell_type": "code",
   "execution_count": 9,
   "metadata": {},
   "outputs": [
    {
     "data": {
      "text/plain": [
       "{'user_id': '76561197970982479',\n",
       " 'spent_money': 3424.31,\n",
       " 'recommend_rate': 100.0,\n",
       " 'item_count': 3}"
      ]
     },
     "execution_count": 9,
     "metadata": {},
     "output_type": "execute_result"
    }
   ],
   "source": [
    "@app.get(\"/userdata/{user_id}\") \n",
    "def userdata(user_id: str):\n",
    "    # Filter data\n",
    "    user_items = users_items[users_items[\"user_id\"] == user_id ]\n",
    "    user_reviews = users_reviews[users_reviews[\"user_id\"] == user_id]\n",
    "    # Calculate spented money\n",
    "    user_items = user_items.merge(steam_games[[\"game_id\", \"price\"]], on=\"game_id\", how=\"left\")    \n",
    "    spent_money = user_items[\"price\"].sum()\n",
    "    # Calculate item amount and recommendatio rate\n",
    "    item_count = user_reviews.shape[0]\n",
    "    recommend_rate = user_reviews[\"recommend\"].value_counts()[True] * 100 / item_count\n",
    "\n",
    "    return {\"user_id\": user_id, \"spent_money\": spent_money, \"recommend_rate\": recommend_rate, \"item_count\": item_count}\n",
    "\n",
    "userdata(\"76561197970982479\")"
   ]
  },
  {
   "cell_type": "markdown",
   "metadata": {},
   "source": [
    "[GET /user_for_genre/{genre}](https://pi-ml-ops-iviw.onrender.com/user_for_genre/Action)\n",
    "\n",
    "Returns the user with the highest playtime and a list of accumulated playtime by year for a given genre:"
   ]
  },
  {
   "cell_type": "code",
   "execution_count": 8,
   "metadata": {},
   "outputs": [
    {
     "data": {
      "text/plain": [
       "{'Top player': 'Sp3ctre',\n",
       " 'Hours played by year': [{'Year': 1983.0, 'playtime': 3582.0},\n",
       "  {'Year': 1984.0, 'playtime': 384.0},\n",
       "  {'Year': 1988.0, 'playtime': 30241.0},\n",
       "  {'Year': 1989.0, 'playtime': 607.0},\n",
       "  {'Year': 1990.0, 'playtime': 18787.0},\n",
       "  {'Year': 1991.0, 'playtime': 2502.0},\n",
       "  {'Year': 1992.0, 'playtime': 1925.0},\n",
       "  {'Year': 1993.0, 'playtime': 211807.0},\n",
       "  {'Year': 1994.0, 'playtime': 121057.0},\n",
       "  {'Year': 1995.0, 'playtime': 222132.0},\n",
       "  {'Year': 1996.0, 'playtime': 70061.0},\n",
       "  {'Year': 1997.0, 'playtime': 687668.0},\n",
       "  {'Year': 1998.0, 'playtime': 3089111.0},\n",
       "  {'Year': 1999.0, 'playtime': 3040470.0},\n",
       "  {'Year': 2000.0, 'playtime': 18663625.0},\n",
       "  {'Year': 2001.0, 'playtime': 1480065.0},\n",
       "  {'Year': 2002.0, 'playtime': 2680111.0},\n",
       "  {'Year': 2003.0, 'playtime': 15075311.0},\n",
       "  {'Year': 2004.0, 'playtime': 134255188.0},\n",
       "  {'Year': 2005.0, 'playtime': 15670732.0},\n",
       "  {'Year': 2006.0, 'playtime': 471120762.0},\n",
       "  {'Year': 2007.0, 'playtime': 24553464.0},\n",
       "  {'Year': 2008.0, 'playtime': 50035377.0},\n",
       "  {'Year': 2009.0, 'playtime': 217871749.0},\n",
       "  {'Year': 2010.0, 'playtime': 219922810.0},\n",
       "  {'Year': 2011.0, 'playtime': 351514830.0},\n",
       "  {'Year': 2012.0, 'playtime': 1149772536.0},\n",
       "  {'Year': 2013.0, 'playtime': 491491276.0},\n",
       "  {'Year': 2014.0, 'playtime': 209452543.0},\n",
       "  {'Year': 2015.0, 'playtime': 378019714.0},\n",
       "  {'Year': 2016.0, 'playtime': 126206734.0},\n",
       "  {'Year': 2017.0, 'playtime': 129747579.0},\n",
       "  {'Year': 2018.0, 'playtime': 2224.0}]}"
      ]
     },
     "execution_count": 8,
     "metadata": {},
     "output_type": "execute_result"
    }
   ],
   "source": [
    "@app.get(\"/userforgenre/{genre}\")\n",
    "def UserForGenre(genre: str):\n",
    "    # Filter data\n",
    "    genre_items = users_items.merge(steam_games[[\"genres\", \"game_id\", \"date\"]], on=\"game_id\", how=\"left\")\n",
    "    genre_items[\"genres\"] = genre_items[\"genres\"].fillna(\"[]\")\n",
    "    genre_items = genre_items[genre_items[\"genres\"].apply(lambda x: genre in x)]\n",
    "    if genre_items.empty:\n",
    "        return {\"error\": f\"No records found for genre: {genre}\"}\n",
    "    # Calculate player with most hours played\n",
    "    data = genre_items.groupby(\"user_id\")[\"playtime_forever\"].sum()\n",
    "    df = pd.DataFrame(data).reset_index().sort_values(by=\"playtime_forever\", ascending=False)\n",
    "    most_hours_player = df.iloc[0][[\"user_id\"]][0]\n",
    "    # Calculate playtime for each year\n",
    "    hours_by_year = genre_items.groupby(genre_items[\"date\"].dt.year)[\"playtime_forever\"].sum()\n",
    "    hours_by_year = pd.DataFrame(hours_by_year).reset_index()\n",
    "    hours_by_year.columns = [\"year\", \"playtime\"]\n",
    "    # Creat JSON and return\n",
    "    list = []\n",
    "    for i, row in hours_by_year.iterrows():\n",
    "        list.append({\"Year\": row[\"year\"], \"playtime\": row[\"playtime\"]})\n",
    "    return {\"Top player\": most_hours_player,\n",
    "        \"Hours played by year\": list}\n",
    "\n",
    "UserForGenre(\"Action\")"
   ]
  },
  {
   "cell_type": "markdown",
   "metadata": {},
   "source": [
    "[GET /best_developer_year/{year}](https://pi-ml-ops-iviw.onrender.com/best_developer_year/2013)\n",
    "\n",
    "Returns the top 3 developer most recommended by users for a given year:"
   ]
  },
  {
   "cell_type": "code",
   "execution_count": 10,
   "metadata": {},
   "outputs": [
    {
     "data": {
      "text/plain": [
       "[{'Position 1:': 'Valve'},\n",
       " {'Position 2:': 'Tripwire Interactive'},\n",
       " {'Position 3:': 'DONTNOD Entertainment,Feral Interactive (Mac),Feral Interactive (Linux)'}]"
      ]
     },
     "execution_count": 10,
     "metadata": {},
     "output_type": "execute_result"
    }
   ],
   "source": [
    "@app.get(\"/best_developer_year/{year}\")\n",
    "def best_developer_year(year: int):\n",
    "    # Filter data\n",
    "    developer_reviews = users_reviews.merge(steam_games[[\"game_id\", \"developer\"]], on=\"game_id\", how=\"left\")\n",
    "    developer_reviews = developer_reviews[developer_reviews[\"date\"].dt.year == year ]\n",
    "    # Count recommendations\n",
    "    positive_sentiment_items = developer_reviews[developer_reviews[\"sentiment\"] == 2 ]\n",
    "    positive_sentiment_items = positive_sentiment_items.groupby(\"developer\")[\"sentiment\"].count()\n",
    "    positive_sentiment_items = pd.DataFrame(positive_sentiment_items).reset_index().sort_values(by=\"sentiment\", ascending=False)\n",
    "    # Count positive analysis\n",
    "    recommended_items = developer_reviews[developer_reviews[\"recommend\"] == True ]\n",
    "    recommended_items = recommended_items.groupby(\"developer\")[\"recommend\"].count()\n",
    "    recommended_items = pd.DataFrame(recommended_items).reset_index().sort_values(by=\"recommend\", ascending=False)\n",
    "    # Sort and return\n",
    "    top_developers = pd.merge(positive_sentiment_items, recommended_items, on=\"developer\")\n",
    "    top_developers[\"recomendations\"] = top_developers[\"sentiment\"] + top_developers[\"recommend\"]\n",
    "    return [{\"Position 1:\": top_developers.iloc[0][\"developer\"]},\n",
    "            {\"Position 2:\": top_developers.iloc[1][\"developer\"]},\n",
    "            {\"Position 3:\": top_developers.iloc[2][\"developer\"]}]\n",
    "    \n",
    "best_developer_year(2010)"
   ]
  },
  {
   "cell_type": "markdown",
   "metadata": {},
   "source": [
    "[GET /developer_reviews_analysis/{developer}](https://pi-ml-ops-iviw.onrender.com/developer_reviews_analysis/Ubisoft)\n",
    "\n",
    "Returns the positive and negative sentiment count for a given developer:"
   ]
  },
  {
   "cell_type": "code",
   "execution_count": 12,
   "metadata": {},
   "outputs": [
    {
     "data": {
      "text/plain": [
       "{'Negative': 802, 'Positive': 3471}"
      ]
     },
     "execution_count": 12,
     "metadata": {},
     "output_type": "execute_result"
    }
   ],
   "source": [
    "@app.get(\"/developer_reviews_analysis/{developer}\")\n",
    "def developer_reviews_analysis(developer: str):\n",
    "    # Filter data\n",
    "    developer_reviews = users_reviews.merge(steam_games[[\"game_id\", \"developer\"]], on=\"game_id\", how=\"left\")\n",
    "    developer_reviews = developer_reviews[developer_reviews[\"developer\"] == developer ]\n",
    "    if developer_reviews.empty:\n",
    "        return {\"error\": f\"No records found for developer: {developer}\"}\n",
    "    # Calculate positive and negative sentiment and return\n",
    "    sentiment_count = developer_reviews[\"sentiment\"].value_counts()\n",
    "    return {\"Negative\": sentiment_count[0],\n",
    "            \"Positive\": sentiment_count[2]}\n",
    "\n",
    "developer_reviews_analysis(\"Valve\")"
   ]
  },
  {
   "cell_type": "markdown",
   "metadata": {},
   "source": [
    "[GET /recommend_game/{game_id}](https://pi-ml-ops-iviw.onrender.com/recommend_game/10)\n",
    "\n",
    "Returns a list of 5 games recommendations for a given game id:"
   ]
  },
  {
   "cell_type": "code",
   "execution_count": 5,
   "metadata": {},
   "outputs": [
    {
     "data": {
      "text/plain": [
       "{'recommendations': ['Counter-Strike: Source',\n",
       "  'Quake III Arena',\n",
       "  'Counter-Strike: Condition Zero',\n",
       "  'Commandos: Behind Enemy Lines',\n",
       "  'STAR WARS™ Republic Commando™']}"
      ]
     },
     "execution_count": 5,
     "metadata": {},
     "output_type": "execute_result"
    }
   ],
   "source": [
    "@app.get(\"/recommend_game/{game_id}\")\n",
    "def recommend_similar_games(game_id):\n",
    "    # Find game index\n",
    "    game_index = model_data[model_data['game_id'] == game_id].index[0]\n",
    "    # Filter games bases on date\n",
    "    year = model_data[\"date\"].dt.year[game_index]\n",
    "    five_years_ago = year - 5\n",
    "    five_years_later = year + 5\n",
    "    filtered_data = model_data[(model_data[\"date\"].dt.year >= five_years_ago) & (model_data[\"date\"].dt.year <= five_years_later)]\n",
    "    # Filter games based on price\n",
    "    price = model_data[\"price_discr\"][game_index]\n",
    "    upper_price = price + 1\n",
    "    lower_price = price - 1\n",
    "    filtered_data = filtered_data[(filtered_data[\"price_discr\"] >= lower_price) & (filtered_data[\"price_discr\"] <= upper_price)]\n",
    "    # Filter games based on score\n",
    "    score = model_data[\"score\"][game_index]\n",
    "    upper_score = score + 1\n",
    "    lower_score = score - 1\n",
    "    filtered_data = filtered_data[(filtered_data[\"score\"] >= lower_score) & (filtered_data[\"score\"] <= upper_score)]\n",
    "    # Find new game index\n",
    "    filtered_data = filtered_data.reset_index(drop=True)\n",
    "    new_game_index = filtered_data[filtered_data['game_id'] == game_id].index[0]\n",
    "    # Create similarity matrix based on popular genres for filtered_data\n",
    "    popular_genres_matrix = vectorizer.fit_transform(filtered_data['popular_genres'])\n",
    "    popular_genres_similarity_matrix = cosine_similarity(popular_genres_matrix, popular_genres_matrix)\n",
    "    # Create similarity matrix based on common genres for filtered_data\n",
    "    common_genres_matrix = vectorizer.fit_transform(filtered_data['common_genres'])\n",
    "    common_genres_similarity_matrix = cosine_similarity(common_genres_matrix, common_genres_matrix)\n",
    "    # Create similarity matrix based on unpopular genres for filtered_data\n",
    "    unpopular_genres_matrix = vectorizer.fit_transform(filtered_data['unpopular_genres'])\n",
    "    unpopular_genres_similarity_matrix = cosine_similarity(unpopular_genres_matrix, unpopular_genres_matrix)\n",
    "    # Combine the similarity matrices for the three genre categories with choosen importance\n",
    "    similarity_matrix = popular_genres_similarity_matrix + common_genres_similarity_matrix * 1.5 + unpopular_genres_similarity_matrix * 2\n",
    "    # Adjust the game indices for the filtered_data\n",
    "    similar_game_indices = similarity_matrix[new_game_index].argsort()[::-1][1:6]\n",
    "    # Obtain the names of similar games and their similarity scores\n",
    "    similar_game_scores = similarity_matrix[new_game_index][similar_game_indices]\n",
    "    similar_game_titles = filtered_data.iloc[similar_game_indices]['title'].tolist()\n",
    "    # Create a DataFrame with titles and similarity scores\n",
    "    similar_games_dict = {'recommendations': similar_game_titles}\n",
    "    return similar_games_dict\n",
    "\n",
    "recommend_similar_games(10)"
   ]
  }
 ],
 "metadata": {
  "kernelspec": {
   "display_name": "test",
   "language": "python",
   "name": "python3"
  },
  "language_info": {
   "codemirror_mode": {
    "name": "ipython",
    "version": 3
   },
   "file_extension": ".py",
   "mimetype": "text/x-python",
   "name": "python",
   "nbconvert_exporter": "python",
   "pygments_lexer": "ipython3",
   "version": "3.11.4"
  }
 },
 "nbformat": 4,
 "nbformat_minor": 2
}
