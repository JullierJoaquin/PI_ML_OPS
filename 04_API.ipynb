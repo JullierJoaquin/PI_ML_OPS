{
 "cells": [
  {
   "cell_type": "code",
   "execution_count": 71,
   "metadata": {},
   "outputs": [],
   "source": [
    "import ast\n",
    "import fastapi\n",
    "import numpy as np\n",
    "import pandas as pd\n",
    "import pyarrow.parquet as pq\n",
    "from sklearn.metrics.pairwise import cosine_similarity\n",
    "from sklearn.feature_extraction.text import TfidfVectorizer\n",
    "\n",
    "vectorizer = TfidfVectorizer()\n",
    "app = fastapi.FastAPI()\n",
    "\n",
    "steam_games = pd.read_csv(\"data/steam_games.csv\", index_col=0, parse_dates=[\"date\"])\n",
    "steam_games[\"genres\"] = steam_games[\"genres\"].fillna(\"[]\")\n",
    "steam_games['genres'] = steam_games['genres'].apply(eval)\n",
    "\n",
    "users_items = pq.read_table('data/users_items.parquet')\n",
    "users_items = users_items.to_pandas()\n",
    "users_reviews = pq.read_table('data/users_reviews.parquet')\n",
    "users_reviews = users_reviews.to_pandas()\n",
    "\n",
    "model_data = pd.read_csv(\"data/model_data.csv\", index_col=0, parse_dates=[\"date\"])\n",
    "model_data['popular_genres'].fillna('', inplace=True)\n",
    "model_data['common_genres'].fillna('', inplace=True)\n",
    "model_data['unpopular_genres'].fillna('', inplace=True)\n",
    "\n",
    "@app.get(\"/\")\n",
    "def test():\n",
    "    return {\"API STEAM GAMES ACTIVE\"}"
   ]
  },
  {
   "cell_type": "code",
   "execution_count": 19,
   "metadata": {},
   "outputs": [
    {
     "data": {
      "text/plain": [
       "[{'year': 1983, 'item_count': 1, 'free_content': nan},\n",
       " {'year': 1984, 'item_count': 1, 'free_content': nan},\n",
       " {'year': 1991, 'item_count': 1, 'free_content': nan},\n",
       " {'year': 2014, 'item_count': 1, 'free_content': 100.0},\n",
       " {'year': 2015, 'item_count': 1, 'free_content': 100.0}]"
      ]
     },
     "execution_count": 19,
     "metadata": {},
     "output_type": "execute_result"
    }
   ],
   "source": [
    "@app.get(\"/developer/{developer}\")\n",
    "def developer(developer: str):\n",
    "\n",
    "    developer_data = steam_games[steam_games[\"developer\"] == developer]\n",
    "\n",
    "    game_count_by_year = developer_data[\"date\"].dt.year.value_counts()\n",
    "    game_count_by_year_df = pd.DataFrame(game_count_by_year).reset_index()\n",
    "    game_count_by_year_df.columns = [\"year\", \"item_count\"]\n",
    "\n",
    "    free_game_count_by_year = developer_data[\"date\"][developer_data[\"price\"] == 0].dt.year.value_counts()\n",
    "    free_game_count_by_year_df = pd.DataFrame(free_game_count_by_year).reset_index()\n",
    "    free_game_count_by_year_df.columns = [\"year\", \"free_item_count\"]\n",
    "\n",
    "    game_count_by_year_df = pd.merge(game_count_by_year_df, free_game_count_by_year_df, on=\"year\", how=\"left\")    \n",
    "    game_count_by_year_df[\"free_content\"] = game_count_by_year_df[\"free_item_count\"] * 100 / game_count_by_year_df[\"item_count\"]\n",
    "    game_count_by_year_df.drop(columns=\"free_item_count\", inplace=True)\n",
    "\n",
    "    result_dict = game_count_by_year_df.to_dict(orient=\"records\")\n",
    "    return result_dict\n",
    "\n",
    "developer(\"Digital Leisure Inc.\")"
   ]
  },
  {
   "cell_type": "code",
   "execution_count": 46,
   "metadata": {},
   "outputs": [
    {
     "data": {
      "text/plain": [
       "{'user_id': '76561197970982479',\n",
       " 'spent_money': 3424.31,\n",
       " 'recommend_rate': 100.0,\n",
       " 'item_count': 3}"
      ]
     },
     "execution_count": 46,
     "metadata": {},
     "output_type": "execute_result"
    }
   ],
   "source": [
    "@app.get(\"/userdata/{user_id}\")\n",
    "def userdata(user_id: str):\n",
    "\n",
    "    user_items = users_items[users_items[\"user_id\"] == user_id ]\n",
    "    user_reviews = users_reviews[users_reviews[\"user_id\"] == user_id]\n",
    "\n",
    "    user_items = user_items.merge(steam_games[[\"game_id\", \"price\"]], on=\"game_id\", how=\"left\")    \n",
    "    spent_money = user_items[\"price\"].sum()\n",
    "\n",
    "    item_count = user_reviews.shape[0]\n",
    "    recommend_rate = user_reviews[\"recommend\"].value_counts()[True] * 100 / item_count\n",
    "    \n",
    "    user_data = {\"user_id\": user_id, \"spent_money\": spent_money, \"recommend_rate\": recommend_rate, \"item_count\": item_count}\n",
    "\n",
    "    return user_data\n",
    "\n",
    "userdata(\"76561197970982479\")"
   ]
  },
  {
   "cell_type": "code",
   "execution_count": 185,
   "metadata": {},
   "outputs": [
    {
     "data": {
      "text/plain": [
       "{'Player with most hours played for Action': 'Sp3ctre',\n",
       " 'Horas jugadas': [{'Año': 1983.0, 'Horas': 3582},\n",
       "  {'Año': 1984.0, 'Horas': 384},\n",
       "  {'Año': 1988.0, 'Horas': 30241},\n",
       "  {'Año': 1989.0, 'Horas': 607},\n",
       "  {'Año': 1990.0, 'Horas': 18787},\n",
       "  {'Año': 1991.0, 'Horas': 2502},\n",
       "  {'Año': 1992.0, 'Horas': 1925},\n",
       "  {'Año': 1993.0, 'Horas': 211807},\n",
       "  {'Año': 1994.0, 'Horas': 121057},\n",
       "  {'Año': 1995.0, 'Horas': 222132},\n",
       "  {'Año': 1996.0, 'Horas': 70061},\n",
       "  {'Año': 1997.0, 'Horas': 687668},\n",
       "  {'Año': 1998.0, 'Horas': 3089111},\n",
       "  {'Año': 1999.0, 'Horas': 3040470},\n",
       "  {'Año': 2000.0, 'Horas': 18663625},\n",
       "  {'Año': 2001.0, 'Horas': 1480065},\n",
       "  {'Año': 2002.0, 'Horas': 2680111},\n",
       "  {'Año': 2003.0, 'Horas': 15075311},\n",
       "  {'Año': 2004.0, 'Horas': 134255188},\n",
       "  {'Año': 2005.0, 'Horas': 15670732},\n",
       "  {'Año': 2006.0, 'Horas': 471120762},\n",
       "  {'Año': 2007.0, 'Horas': 24553464},\n",
       "  {'Año': 2008.0, 'Horas': 50035377},\n",
       "  {'Año': 2009.0, 'Horas': 217871749},\n",
       "  {'Año': 2010.0, 'Horas': 219922810},\n",
       "  {'Año': 2011.0, 'Horas': 351514830},\n",
       "  {'Año': 2012.0, 'Horas': 1149772536},\n",
       "  {'Año': 2013.0, 'Horas': 491491276},\n",
       "  {'Año': 2014.0, 'Horas': 209452543},\n",
       "  {'Año': 2015.0, 'Horas': 378019714},\n",
       "  {'Año': 2016.0, 'Horas': 126206734},\n",
       "  {'Año': 2017.0, 'Horas': 129747579},\n",
       "  {'Año': 2018.0, 'Horas': 2224}]}"
      ]
     },
     "execution_count": 185,
     "metadata": {},
     "output_type": "execute_result"
    }
   ],
   "source": [
    "@app.get(\"/userforgenre/{genre}\")\n",
    "def UserForGenre(genre: str):\n",
    "\n",
    "    genre_items = users_items.merge(steam_games[[\"genres\", \"game_id\", \"date\"]], on=\"game_id\", how=\"left\")\n",
    "    genre_items[\"genres\"] = genre_items[\"genres\"].fillna(\"[]\")\n",
    "    genre_items = genre_items[genre_items[\"genres\"].apply(lambda x: genre in x)]\n",
    "\n",
    "    data = genre_items.groupby(\"user_id\")[\"playtime_forever\"].sum()\n",
    "    df = pd.DataFrame(data).reset_index().sort_values(by=\"playtime_forever\", ascending=False)\n",
    "    most_hours_player = df.iloc[0][[\"user_id\"]][0]\n",
    "\n",
    "    hours_by_year = genre_items.groupby(genre_items[\"date\"].dt.year)[\"playtime_forever\"].sum()\n",
    "    hours_by_year = [{\"Año\": year, \"Horas\": hours} for year, hours in hours_by_year.items()]\n",
    "\n",
    "    return {\"Player with most hours played for \" + genre: most_hours_player,\n",
    "        \"Horas jugadas\": hours_by_year}\n",
    "\n",
    "UserForGenre(\"Action\")"
   ]
  },
  {
   "cell_type": "code",
   "execution_count": 171,
   "metadata": {},
   "outputs": [
    {
     "data": {
      "text/plain": [
       "[{'Position 1:': 'Valve'},\n",
       " {'Position 2:': 'Tripwire Interactive'},\n",
       " {'Position 3:': 'DONTNOD Entertainment,Feral Interactive (Mac),Feral Interactive (Linux)'}]"
      ]
     },
     "execution_count": 171,
     "metadata": {},
     "output_type": "execute_result"
    }
   ],
   "source": [
    "@app.get(\"/best_developer_year/{year}\")\n",
    "def best_developer_year(year: int):\n",
    "\n",
    "    developer_reviews = users_reviews.merge(steam_games[[\"game_id\", \"developer\"]], on=\"game_id\", how=\"left\")\n",
    "    developer_reviews = developer_reviews[developer_reviews[\"date\"].dt.year == year ]\n",
    "\n",
    "    positive_sentiment_items = developer_reviews[developer_reviews[\"sentiment\"] == 2 ]\n",
    "    \n",
    "    positive_sentiment_items = positive_sentiment_items.groupby(\"developer\")[\"sentiment\"].count()\n",
    "    positive_sentiment_items = pd.DataFrame(positive_sentiment_items).reset_index().sort_values(by=\"sentiment\", ascending=False)\n",
    "\n",
    "    recommended_items = developer_reviews[developer_reviews[\"recommend\"] == True ]\n",
    "    recommended_items = recommended_items.groupby(\"developer\")[\"recommend\"].count()\n",
    "    recommended_items = pd.DataFrame(recommended_items).reset_index().sort_values(by=\"recommend\", ascending=False)\n",
    "    \n",
    "    top_developers = pd.merge(positive_sentiment_items, recommended_items, on=\"developer\")\n",
    "    top_developers[\"recomendations\"] = top_developers[\"sentiment\"] + top_developers[\"recommend\"]\n",
    "\n",
    "    return [{\"Position 1:\": top_developers.iloc[0][\"developer\"]},\n",
    "            {\"Position 2:\": top_developers.iloc[1][\"developer\"]},\n",
    "            {\"Position 3:\": top_developers.iloc[2][\"developer\"]}]\n",
    "    \n",
    "best_developer_year(2010)"
   ]
  },
  {
   "cell_type": "code",
   "execution_count": 129,
   "metadata": {},
   "outputs": [
    {
     "data": {
      "text/plain": [
       "{'Valve': [{'Negative': 0, 'Positive': 0}]}"
      ]
     },
     "execution_count": 129,
     "metadata": {},
     "output_type": "execute_result"
    }
   ],
   "source": [
    "@app.get(\"/developer_reviews_analysis/{developer}\")\n",
    "def developer_reviews_analysis(developer: str):\n",
    "\n",
    "    developer_reviews = users_reviews.merge(steam_games[[\"game_id\", \"developer\"]], on=\"game_id\", how=\"left\")\n",
    "    developer_reviews = developer_reviews[developer_reviews[\"developer\"] == developer ]\n",
    "    sentiment_count = developer_reviews[\"sentiment\"].value_counts()\n",
    "\n",
    "    return {developer: [{\"Negative\": sentiment_count.get(\"Negative\", 0), \"Positive\": sentiment_count.get(\"Positive\", 0)}]}\n",
    "\n",
    "sentiment_analysis(\"Valve\")"
   ]
  },
  {
   "cell_type": "code",
   "execution_count": 15,
   "metadata": {},
   "outputs": [
    {
     "data": {
      "text/plain": [
       "{'recommendations': ['Counter-Strike: Source',\n",
       "  'Full Spectrum Warrior',\n",
       "  \"Tom Clancy's Ghost Recon® Desert Siege™\",\n",
       "  'Commandos: Beyond the Call of Duty',\n",
       "  'Commandos: Behind Enemy Lines']}"
      ]
     },
     "execution_count": 15,
     "metadata": {},
     "output_type": "execute_result"
    }
   ],
   "source": [
    "@app.get(\"/recommend/{title}\")\n",
    "def recommend_similar_games(title):\n",
    "\n",
    "    # Encuentra el índice del juego ingresado\n",
    "    game_index = model_data[model_data['title'] == title].index[0]\n",
    "\n",
    "    # Filtra los juegos basados en la fecha de lanzamiento\n",
    "    year = model_data[\"date\"].dt.year[game_index]\n",
    "    five_years_ago = year - 5\n",
    "    five_years_later = year + 5\n",
    "    filtered_data = model_data[(model_data[\"date\"].dt.year >= five_years_ago) & (model_data[\"date\"].dt.year <= five_years_later)]\n",
    "\n",
    "    # Filtra los juegos basados price category\n",
    "    price = model_data[\"price_discr\"][game_index]\n",
    "    upper_price = price + 1\n",
    "    lower_price = price - 1\n",
    "    filtered_data = filtered_data[(filtered_data[\"price_discr\"] >= lower_price) & (filtered_data[\"price_discr\"] <= upper_price)]\n",
    "    \n",
    "    filtered_data = filtered_data.reset_index(drop=True)\n",
    "    new_game_index = filtered_data[filtered_data['title'] == title].index[0]\n",
    "\n",
    "    # Create similarity matrix based on popular genres for filtered_data\n",
    "    popular_genres_matrix = vectorizer.fit_transform(filtered_data['popular_genres'])\n",
    "    popular_genres_similarity_matrix = cosine_similarity(popular_genres_matrix, popular_genres_matrix)\n",
    "    # Create similarity matrix based on common genres for filtered_data\n",
    "    common_genres_matrix = vectorizer.fit_transform(filtered_data['common_genres'])\n",
    "    common_genres_similarity_matrix = cosine_similarity(common_genres_matrix, common_genres_matrix)\n",
    "    # Create similarity matrix based on unpopular genres for filtered_data\n",
    "    unpopular_genres_matrix = vectorizer.fit_transform(filtered_data['unpopular_genres'])\n",
    "    unpopular_genres_similarity_matrix = cosine_similarity(unpopular_genres_matrix, unpopular_genres_matrix)\n",
    "    # Combine the similarity matrices for the three genre categories\n",
    "    similarity_matrix = popular_genres_similarity_matrix + common_genres_similarity_matrix + unpopular_genres_similarity_matrix\n",
    "\n",
    "    # Adjust the game indices for the filtered_data\n",
    "    similar_game_indices = similarity_matrix[new_game_index].argsort()[::-1][1:6]\n",
    "\n",
    "    # Obtain the names of similar games and their similarity scores\n",
    "    similar_game_scores = similarity_matrix[game_index][similar_game_indices]\n",
    "    similar_game_titles = filtered_data.iloc[similar_game_indices]['title'].tolist()\n",
    "\n",
    "    # Create a DataFrame with titles and similarity scores\n",
    "    similar_games_dict = {'recommendations': similar_game_titles}\n",
    "\n",
    "    return similar_games_dict\n",
    "\n",
    "recommend_similar_games(\"Counter-Strike\")"
   ]
  },
  {
   "cell_type": "code",
   "execution_count": null,
   "metadata": {},
   "outputs": [
    {
     "data": {
      "text/plain": [
       "[{'Puesto 1': 'Team Fortress 2'},\n",
       " {'Puesto 2': 'Counter-Strike: Global Offensive'},\n",
       " {'Puesto 3': \"Garry's Mod\"}]"
      ]
     },
     "metadata": {},
     "output_type": "display_data"
    }
   ],
   "source": [
    "@app.get(\"/users_recommend/{year}\") # Devuelve el top 3 de juegos MÁS recomendados por usuarios para el año dado.\n",
    "def UsersRecommend(year: int):\n",
    "\n",
    "    year_reviews = australian_users_reviews[[\"item_id\", \"sentiment\", \"recommend\"]][(pd.to_datetime(australian_users_reviews['date']).dt.year == year) & (australian_users_reviews['sentiment'] >= 1)]\n",
    "    top_3_games = year_reviews[\"item_id\"].value_counts().head(3)\n",
    "    top_3_games = pd.DataFrame({'item_id': top_3_games.index, 'count': top_3_games.values})\n",
    "    top_3_games = pd.merge(left=top_3_games, right=steam_games[['item_id', 'title']], on='item_id', how='left')\n",
    "    most_recommended_games = [{\"Puesto 1\": top_3_games[\"title\"][0]}, {\"Puesto 2\": top_3_games[\"title\"][1]}, {\"Puesto 3\": top_3_games[\"title\"][2]}]\n",
    "    return most_recommended_games\n",
    "\n",
    "UsersRecommend(2014)"
   ]
  },
  {
   "cell_type": "code",
   "execution_count": 5,
   "metadata": {},
   "outputs": [
    {
     "ename": "NameError",
     "evalue": "name 'australian_users_reviews' is not defined",
     "output_type": "error",
     "traceback": [
      "\u001b[1;31m---------------------------------------------------------------------------\u001b[0m",
      "\u001b[1;31mNameError\u001b[0m                                 Traceback (most recent call last)",
      "\u001b[1;32mc:\\Users\\david\\Desktop\\PI_ML_OPS\\04_API.ipynb Celda 4\u001b[0m line \u001b[0;36m1\n\u001b[0;32m      <a href='vscode-notebook-cell:/c%3A/Users/david/Desktop/PI_ML_OPS/04_API.ipynb#W3sZmlsZQ%3D%3D?line=6'>7</a>\u001b[0m     least_recommended_games \u001b[39m=\u001b[39m [{\u001b[39m\"\u001b[39m\u001b[39mPuesto 1\u001b[39m\u001b[39m\"\u001b[39m: bot_3_games[\u001b[39m\"\u001b[39m\u001b[39mtitle\u001b[39m\u001b[39m\"\u001b[39m][\u001b[39m0\u001b[39m]}, {\u001b[39m\"\u001b[39m\u001b[39mPuesto 2\u001b[39m\u001b[39m\"\u001b[39m: bot_3_games[\u001b[39m\"\u001b[39m\u001b[39mtitle\u001b[39m\u001b[39m\"\u001b[39m][\u001b[39m1\u001b[39m]}, {\u001b[39m\"\u001b[39m\u001b[39mPuesto 3\u001b[39m\u001b[39m\"\u001b[39m: bot_3_games[\u001b[39m\"\u001b[39m\u001b[39mtitle\u001b[39m\u001b[39m\"\u001b[39m][\u001b[39m2\u001b[39m]}]\n\u001b[0;32m      <a href='vscode-notebook-cell:/c%3A/Users/david/Desktop/PI_ML_OPS/04_API.ipynb#W3sZmlsZQ%3D%3D?line=7'>8</a>\u001b[0m     \u001b[39mreturn\u001b[39;00m least_recommended_games\n\u001b[1;32m---> <a href='vscode-notebook-cell:/c%3A/Users/david/Desktop/PI_ML_OPS/04_API.ipynb#W3sZmlsZQ%3D%3D?line=9'>10</a>\u001b[0m UsersNotRecommend(\u001b[39m2014\u001b[39;49m)\n",
      "\u001b[1;32mc:\\Users\\david\\Desktop\\PI_ML_OPS\\04_API.ipynb Celda 4\u001b[0m line \u001b[0;36m3\n\u001b[0;32m      <a href='vscode-notebook-cell:/c%3A/Users/david/Desktop/PI_ML_OPS/04_API.ipynb#W3sZmlsZQ%3D%3D?line=0'>1</a>\u001b[0m \u001b[39m@app\u001b[39m\u001b[39m.\u001b[39mget(\u001b[39m\"\u001b[39m\u001b[39m/users_not_recommend/\u001b[39m\u001b[39m{year}\u001b[39;00m\u001b[39m\"\u001b[39m) \u001b[39m# Devuelve el top 3 de juegos MENOS recomendados por usuarios para el año dado.\u001b[39;00m\n\u001b[0;32m      <a href='vscode-notebook-cell:/c%3A/Users/david/Desktop/PI_ML_OPS/04_API.ipynb#W3sZmlsZQ%3D%3D?line=1'>2</a>\u001b[0m \u001b[39mdef\u001b[39;00m \u001b[39mUsersNotRecommend\u001b[39m(year: \u001b[39mint\u001b[39m):\n\u001b[1;32m----> <a href='vscode-notebook-cell:/c%3A/Users/david/Desktop/PI_ML_OPS/04_API.ipynb#W3sZmlsZQ%3D%3D?line=2'>3</a>\u001b[0m     year_reviews \u001b[39m=\u001b[39m australian_users_reviews[[\u001b[39m\"\u001b[39m\u001b[39mitem_id\u001b[39m\u001b[39m\"\u001b[39m, \u001b[39m\"\u001b[39m\u001b[39msentiment\u001b[39m\u001b[39m\"\u001b[39m, \u001b[39m\"\u001b[39m\u001b[39mrecommend\u001b[39m\u001b[39m\"\u001b[39m]][(pd\u001b[39m.\u001b[39mto_datetime(australian_users_reviews[\u001b[39m'\u001b[39m\u001b[39mdate\u001b[39m\u001b[39m'\u001b[39m])\u001b[39m.\u001b[39mdt\u001b[39m.\u001b[39myear \u001b[39m==\u001b[39m year) \u001b[39m&\u001b[39m (australian_users_reviews[\u001b[39m'\u001b[39m\u001b[39msentiment\u001b[39m\u001b[39m'\u001b[39m] \u001b[39m>\u001b[39m\u001b[39m=\u001b[39m \u001b[39m1\u001b[39m)]\n\u001b[0;32m      <a href='vscode-notebook-cell:/c%3A/Users/david/Desktop/PI_ML_OPS/04_API.ipynb#W3sZmlsZQ%3D%3D?line=3'>4</a>\u001b[0m     bot_3_games \u001b[39m=\u001b[39m year_reviews[\u001b[39m\"\u001b[39m\u001b[39mitem_id\u001b[39m\u001b[39m\"\u001b[39m]\u001b[39m.\u001b[39mvalue_counts()\u001b[39m.\u001b[39mtail(\u001b[39m3\u001b[39m)\n\u001b[0;32m      <a href='vscode-notebook-cell:/c%3A/Users/david/Desktop/PI_ML_OPS/04_API.ipynb#W3sZmlsZQ%3D%3D?line=4'>5</a>\u001b[0m     bot_3_games \u001b[39m=\u001b[39m pd\u001b[39m.\u001b[39mDataFrame({\u001b[39m'\u001b[39m\u001b[39mitem_id\u001b[39m\u001b[39m'\u001b[39m: bot_3_games\u001b[39m.\u001b[39mindex, \u001b[39m'\u001b[39m\u001b[39mcount\u001b[39m\u001b[39m'\u001b[39m: bot_3_games\u001b[39m.\u001b[39mvalues})\n",
      "\u001b[1;31mNameError\u001b[0m: name 'australian_users_reviews' is not defined"
     ]
    }
   ],
   "source": [
    "@app.get(\"/users_not_recommend/{year}\") # Devuelve el top 3 de juegos MENOS recomendados por usuarios para el año dado.\n",
    "def UsersNotRecommend(year: int):\n",
    "    year_reviews = australian_users_reviews[[\"item_id\", \"sentiment\", \"recommend\"]][(pd.to_datetime(australian_users_reviews['date']).dt.year == year) & (australian_users_reviews['sentiment'] >= 1)]\n",
    "    bot_3_games = year_reviews[\"item_id\"].value_counts().tail(3)\n",
    "    bot_3_games = pd.DataFrame({'item_id': bot_3_games.index, 'count': bot_3_games.values})\n",
    "    bot_3_games = pd.merge(left=bot_3_games, right=steam_games[['item_id', 'title']], on='item_id', how='left')\n",
    "    least_recommended_games = [{\"Puesto 1\": bot_3_games[\"title\"][0]}, {\"Puesto 2\": bot_3_games[\"title\"][1]}, {\"Puesto 3\": bot_3_games[\"title\"][2]}]\n",
    "    return least_recommended_games\n",
    "\n",
    "UsersNotRecommend(2014)"
   ]
  }
 ],
 "metadata": {
  "kernelspec": {
   "display_name": "test",
   "language": "python",
   "name": "python3"
  },
  "language_info": {
   "codemirror_mode": {
    "name": "ipython",
    "version": 3
   },
   "file_extension": ".py",
   "mimetype": "text/x-python",
   "name": "python",
   "nbconvert_exporter": "python",
   "pygments_lexer": "ipython3",
   "version": "3.11.4"
  }
 },
 "nbformat": 4,
 "nbformat_minor": 2
}
