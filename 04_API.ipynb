{
 "cells": [
  {
   "cell_type": "code",
   "execution_count": 2,
   "metadata": {},
   "outputs": [],
   "source": [
    "import ast\n",
    "import fastapi\n",
    "import numpy as np\n",
    "import pandas as pd\n",
    "import pyarrow.parquet as pq\n",
    "from sklearn.metrics.pairwise import cosine_similarity\n",
    "from sklearn.feature_extraction.text import TfidfVectorizer\n",
    "\n",
    "vectorizer = TfidfVectorizer()\n",
    "app = fastapi.FastAPI()\n",
    "\n",
    "steam_games = pd.read_csv(\"data/steam_games.csv\", index_col=0, parse_dates=[\"date\"])\n",
    "steam_games[\"genres\"] = steam_games[\"genres\"].fillna(\"[]\")\n",
    "steam_games['genres'] = steam_games['genres'].apply(eval)\n",
    "\n",
    "users_items = pq.read_table('data/users_items.parquet')\n",
    "users_items = users_items.to_pandas()\n",
    "users_reviews = pq.read_table('data/users_reviews.parquet')\n",
    "users_reviews = users_reviews.to_pandas()\n",
    "\n",
    "model_data = pd.read_csv(\"data/model_data.csv\", index_col=0, parse_dates=[\"date\"])\n",
    "model_data['popular_genres'].fillna('', inplace=True)\n",
    "model_data['common_genres'].fillna('', inplace=True)\n",
    "model_data['unpopular_genres'].fillna('', inplace=True)\n",
    "\n",
    "@app.get(\"/\")\n",
    "def test():\n",
    "    return {\"API STEAM GAMES ACTIVE\"}"
   ]
  },
  {
   "cell_type": "code",
   "execution_count": 10,
   "metadata": {},
   "outputs": [
    {
     "data": {
      "text/plain": [
       "{'Developer': 'Ubisoft',\n",
       " 'items:': [{'Year': 2016.0, 'Total items': 20.0, 'Free content': 10.0},\n",
       "  {'Year': 2017.0, 'Total items': 11.0, 'Free content': nan},\n",
       "  {'Year': 2014.0, 'Total items': 7.0, 'Free content': nan},\n",
       "  {'Year': 2003.0, 'Total items': 2.0, 'Free content': nan},\n",
       "  {'Year': 2007.0, 'Total items': 2.0, 'Free content': nan},\n",
       "  {'Year': 2004.0, 'Total items': 1.0, 'Free content': nan},\n",
       "  {'Year': 2005.0, 'Total items': 1.0, 'Free content': nan},\n",
       "  {'Year': 2010.0, 'Total items': 1.0, 'Free content': nan},\n",
       "  {'Year': 2015.0, 'Total items': 1.0, 'Free content': nan}]}"
      ]
     },
     "execution_count": 10,
     "metadata": {},
     "output_type": "execute_result"
    }
   ],
   "source": [
    "###################################################################################\n",
    "@app.get(\"/developer/{developer}\")\n",
    "def developer(developer: str):\n",
    "\n",
    "    developer_data = steam_games[steam_games[\"developer\"] == developer]\n",
    "\n",
    "    game_count_by_year = developer_data[\"date\"].dt.year.value_counts()\n",
    "    game_count_by_year_df = pd.DataFrame(game_count_by_year).reset_index()\n",
    "    game_count_by_year_df.columns = [\"year\", \"item_count\"]\n",
    "\n",
    "    free_game_count_by_year = developer_data[\"date\"][developer_data[\"price\"] == 0].dt.year.value_counts()\n",
    "    free_game_count_by_year_df = pd.DataFrame(free_game_count_by_year).reset_index()\n",
    "    free_game_count_by_year_df.columns = [\"year\", \"free_item_count\"]\n",
    "\n",
    "    game_count_by_year_df = pd.merge(game_count_by_year_df, free_game_count_by_year_df, on=\"year\", how=\"left\")    \n",
    "    game_count_by_year_df[\"free_content\"] = game_count_by_year_df[\"free_item_count\"] * 100 / game_count_by_year_df[\"item_count\"]\n",
    "    game_count_by_year_df.drop(columns=\"free_item_count\", inplace=True)\n",
    "\n",
    "    list = []\n",
    "    for i, row in game_count_by_year_df.iterrows():\n",
    "        list.append({\"Year\": row[\"year\"], \"Total items\": row[\"item_count\"], \"Free content\": row[\"free_content\"]})\n",
    "\n",
    "    return {\"Developer\": developer, \"items:\": list}\n",
    "\n",
    "developer(\"Ubisoft\")"
   ]
  },
  {
   "cell_type": "code",
   "execution_count": 6,
   "metadata": {},
   "outputs": [
    {
     "data": {
      "text/plain": [
       "{'user_id': '76561197970982479',\n",
       " 'spent_money': 3424.31,\n",
       " 'recommend_rate': 100.0,\n",
       " 'item_count': 3}"
      ]
     },
     "execution_count": 6,
     "metadata": {},
     "output_type": "execute_result"
    }
   ],
   "source": [
    "@app.get(\"/userdata/{user_id}\")\n",
    "def userdata(user_id: str):\n",
    "\n",
    "    user_items = users_items[users_items[\"user_id\"] == user_id ]\n",
    "    user_reviews = users_reviews[users_reviews[\"user_id\"] == user_id]\n",
    "\n",
    "    user_items = user_items.merge(steam_games[[\"game_id\", \"price\"]], on=\"game_id\", how=\"left\")    \n",
    "    spent_money = user_items[\"price\"].sum()\n",
    "\n",
    "    item_count = user_reviews.shape[0]\n",
    "    recommend_rate = user_reviews[\"recommend\"].value_counts()[True] * 100 / item_count\n",
    "    \n",
    "    user_data = {\"user_id\": user_id, \"spent_money\": spent_money, \"recommend_rate\": recommend_rate, \"item_count\": item_count}\n",
    "\n",
    "    return user_data\n",
    "\n",
    "userdata(\"76561197970982479\")"
   ]
  },
  {
   "cell_type": "code",
   "execution_count": 3,
   "metadata": {},
   "outputs": [
    {
     "data": {
      "text/plain": [
       "{'Player with most hours played for Shooter': 'Sp3ctre',\n",
       " 'Played hours': [{'Año': 1993.0, 'Horas': 3329},\n",
       "  {'Año': 1994.0, 'Horas': 101416},\n",
       "  {'Año': 1995.0, 'Horas': 186295},\n",
       "  {'Año': 1996.0, 'Horas': 38397},\n",
       "  {'Año': 1997.0, 'Horas': 347422},\n",
       "  {'Año': 1998.0, 'Horas': 2763301},\n",
       "  {'Año': 1999.0, 'Horas': 2704109},\n",
       "  {'Año': 2000.0, 'Horas': 18502655},\n",
       "  {'Año': 2001.0, 'Horas': 1257379},\n",
       "  {'Año': 2002.0, 'Horas': 558488},\n",
       "  {'Año': 2003.0, 'Horas': 6075238},\n",
       "  {'Año': 2004.0, 'Horas': 130362063},\n",
       "  {'Año': 2005.0, 'Horas': 11118812},\n",
       "  {'Año': 2006.0, 'Horas': 453507805},\n",
       "  {'Año': 2007.0, 'Horas': 12151154},\n",
       "  {'Año': 2008.0, 'Horas': 29478832},\n",
       "  {'Año': 2009.0, 'Horas': 163423068},\n",
       "  {'Año': 2010.0, 'Horas': 134685018},\n",
       "  {'Año': 2011.0, 'Horas': 86479712},\n",
       "  {'Año': 2012.0, 'Horas': 992575221},\n",
       "  {'Año': 2013.0, 'Horas': 350361130},\n",
       "  {'Año': 2014.0, 'Horas': 70796455},\n",
       "  {'Año': 2015.0, 'Horas': 182745885},\n",
       "  {'Año': 2016.0, 'Horas': 38214458},\n",
       "  {'Año': 2017.0, 'Horas': 74884639}]}"
      ]
     },
     "execution_count": 3,
     "metadata": {},
     "output_type": "execute_result"
    }
   ],
   "source": [
    "######################################################################################################\n",
    "@app.get(\"/userforgenre/{genre}\")\n",
    "def UserForGenre(genre: str):\n",
    "\n",
    "    genre_items = users_items.merge(steam_games[[\"genres\", \"game_id\", \"date\"]], on=\"game_id\", how=\"left\")\n",
    "    genre_items[\"genres\"] = genre_items[\"genres\"].fillna(\"[]\")\n",
    "    genre_items = genre_items[genre_items[\"genres\"].apply(lambda x: genre in x)]\n",
    "\n",
    "    data = genre_items.groupby(\"user_id\")[\"playtime_forever\"].sum()\n",
    "    df = pd.DataFrame(data).reset_index().sort_values(by=\"playtime_forever\", ascending=False)\n",
    "    most_hours_player = df.iloc[0][[\"user_id\"]][0]\n",
    "\n",
    "    hours_by_year = genre_items.groupby(genre_items[\"date\"].dt.year)[\"playtime_forever\"].sum()\n",
    "    hours_by_year = [{\"Año\": year, \"Horas\": hours} for year, hours in hours_by_year.items()]\n",
    "\n",
    "    return {\"Player with most hours played for \" + genre: most_hours_player,\n",
    "        \"Played hours\": hours_by_year}\n",
    "\n",
    "UserForGenre(\"Shooter\")"
   ]
  },
  {
   "cell_type": "code",
   "execution_count": 8,
   "metadata": {},
   "outputs": [
    {
     "data": {
      "text/plain": [
       "[{'Position 1:': 'Valve'},\n",
       " {'Position 2:': 'Tripwire Interactive'},\n",
       " {'Position 3:': 'DONTNOD Entertainment,Feral Interactive (Mac),Feral Interactive (Linux)'}]"
      ]
     },
     "execution_count": 8,
     "metadata": {},
     "output_type": "execute_result"
    }
   ],
   "source": [
    "@app.get(\"/best_developer_year/{year}\")\n",
    "def best_developer_year(year: int):\n",
    "\n",
    "    developer_reviews = users_reviews.merge(steam_games[[\"game_id\", \"developer\"]], on=\"game_id\", how=\"left\")\n",
    "    developer_reviews = developer_reviews[developer_reviews[\"date\"].dt.year == year ]\n",
    "\n",
    "    positive_sentiment_items = developer_reviews[developer_reviews[\"sentiment\"] == 2 ]\n",
    "    \n",
    "    positive_sentiment_items = positive_sentiment_items.groupby(\"developer\")[\"sentiment\"].count()\n",
    "    positive_sentiment_items = pd.DataFrame(positive_sentiment_items).reset_index().sort_values(by=\"sentiment\", ascending=False)\n",
    "\n",
    "    recommended_items = developer_reviews[developer_reviews[\"recommend\"] == True ]\n",
    "    recommended_items = recommended_items.groupby(\"developer\")[\"recommend\"].count()\n",
    "    recommended_items = pd.DataFrame(recommended_items).reset_index().sort_values(by=\"recommend\", ascending=False)\n",
    "    \n",
    "    top_developers = pd.merge(positive_sentiment_items, recommended_items, on=\"developer\")\n",
    "    top_developers[\"recomendations\"] = top_developers[\"sentiment\"] + top_developers[\"recommend\"]\n",
    "\n",
    "    return [{\"Position 1:\": top_developers.iloc[0][\"developer\"]},\n",
    "            {\"Position 2:\": top_developers.iloc[1][\"developer\"]},\n",
    "            {\"Position 3:\": top_developers.iloc[2][\"developer\"]}]\n",
    "    \n",
    "best_developer_year(2010)"
   ]
  },
  {
   "cell_type": "code",
   "execution_count": 6,
   "metadata": {},
   "outputs": [
    {
     "data": {
      "text/plain": [
       "{'Digital Leisure Inc.': [{'Negative': 0, 'Positive': 0}]}"
      ]
     },
     "execution_count": 6,
     "metadata": {},
     "output_type": "execute_result"
    }
   ],
   "source": [
    "###########################################################\n",
    "@app.get(\"/developer_reviews_analysis/{developer}\")\n",
    "def developer_reviews_analysis(developer: str):\n",
    "\n",
    "    developer_reviews = users_reviews.merge(steam_games[[\"game_id\", \"developer\"]], on=\"game_id\", how=\"left\")\n",
    "    developer_reviews = developer_reviews[developer_reviews[\"developer\"] == developer ]\n",
    "    sentiment_count = developer_reviews[\"sentiment\"].value_counts()\n",
    "\n",
    "    return {developer: [{\"Negative\": sentiment_count.get(\"Negative\", 0), \"Positive\": sentiment_count.get(\"Positive\", 0)}]}\n",
    "\n",
    "developer_reviews_analysis(\"Digital Leisure Inc.\")"
   ]
  },
  {
   "cell_type": "code",
   "execution_count": 7,
   "metadata": {},
   "outputs": [
    {
     "data": {
      "text/plain": [
       "{'recommendations': ['Counter-Strike: Source',\n",
       "  'Full Spectrum Warrior',\n",
       "  \"Tom Clancy's Ghost Recon® Desert Siege™\",\n",
       "  'Commandos: Beyond the Call of Duty',\n",
       "  'Commandos: Behind Enemy Lines']}"
      ]
     },
     "execution_count": 7,
     "metadata": {},
     "output_type": "execute_result"
    }
   ],
   "source": [
    "@app.get(\"/recommend/{title}\")\n",
    "def recommend_similar_games(title):\n",
    "\n",
    "    # Encuentra el índice del juego ingresado\n",
    "    game_index = model_data[model_data['title'] == title].index[0]\n",
    "\n",
    "    # Filtra los juegos basados en la fecha de lanzamiento\n",
    "    year = model_data[\"date\"].dt.year[game_index]\n",
    "    five_years_ago = year - 5\n",
    "    five_years_later = year + 5\n",
    "    filtered_data = model_data[(model_data[\"date\"].dt.year >= five_years_ago) & (model_data[\"date\"].dt.year <= five_years_later)]\n",
    "\n",
    "    # Filtra los juegos basados price category\n",
    "    price = model_data[\"price_discr\"][game_index]\n",
    "    upper_price = price + 1\n",
    "    lower_price = price - 1\n",
    "    filtered_data = filtered_data[(filtered_data[\"price_discr\"] >= lower_price) & (filtered_data[\"price_discr\"] <= upper_price)]\n",
    "    \n",
    "    filtered_data = filtered_data.reset_index(drop=True)\n",
    "    new_game_index = filtered_data[filtered_data['title'] == title].index[0]\n",
    "\n",
    "    # Create similarity matrix based on popular genres for filtered_data\n",
    "    popular_genres_matrix = vectorizer.fit_transform(filtered_data['popular_genres'])\n",
    "    popular_genres_similarity_matrix = cosine_similarity(popular_genres_matrix, popular_genres_matrix)\n",
    "    # Create similarity matrix based on common genres for filtered_data\n",
    "    common_genres_matrix = vectorizer.fit_transform(filtered_data['common_genres'])\n",
    "    common_genres_similarity_matrix = cosine_similarity(common_genres_matrix, common_genres_matrix)\n",
    "    # Create similarity matrix based on unpopular genres for filtered_data\n",
    "    unpopular_genres_matrix = vectorizer.fit_transform(filtered_data['unpopular_genres'])\n",
    "    unpopular_genres_similarity_matrix = cosine_similarity(unpopular_genres_matrix, unpopular_genres_matrix)\n",
    "    # Combine the similarity matrices for the three genre categories\n",
    "    similarity_matrix = popular_genres_similarity_matrix + common_genres_similarity_matrix + unpopular_genres_similarity_matrix\n",
    "\n",
    "    # Adjust the game indices for the filtered_data\n",
    "    similar_game_indices = similarity_matrix[new_game_index].argsort()[::-1][1:6]\n",
    "\n",
    "    # Obtain the names of similar games and their similarity scores\n",
    "    similar_game_scores = similarity_matrix[game_index][similar_game_indices]\n",
    "    similar_game_titles = filtered_data.iloc[similar_game_indices]['title'].tolist()\n",
    "\n",
    "    # Create a DataFrame with titles and similarity scores\n",
    "    similar_games_dict = {'recommendations': similar_game_titles}\n",
    "\n",
    "    return similar_games_dict\n",
    "\n",
    "recommend_similar_games(\"Counter-Strike\")"
   ]
  }
 ],
 "metadata": {
  "kernelspec": {
   "display_name": "test",
   "language": "python",
   "name": "python3"
  },
  "language_info": {
   "codemirror_mode": {
    "name": "ipython",
    "version": 3
   },
   "file_extension": ".py",
   "mimetype": "text/x-python",
   "name": "python",
   "nbconvert_exporter": "python",
   "pygments_lexer": "ipython3",
   "version": "3.11.4"
  }
 },
 "nbformat": 4,
 "nbformat_minor": 2
}
