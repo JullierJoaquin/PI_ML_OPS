{
 "cells": [
  {
   "cell_type": "code",
   "execution_count": 21,
   "metadata": {},
   "outputs": [],
   "source": [
    "import ast\n",
    "import fastapi\n",
    "import numpy as np\n",
    "import pandas as pd\n",
    "import pyarrow.parquet as pq\n",
    "from sklearn.metrics.pairwise import cosine_similarity\n",
    "from sklearn.feature_extraction.text import TfidfVectorizer\n",
    "\n",
    "vectorizer = TfidfVectorizer()\n",
    "app = fastapi.FastAPI()\n",
    "\n",
    "model_data = pd.read_csv(\"data/model_data.csv\", index_col=0, parse_dates=[\"date\"])\n",
    "model_data['popular_genres'].fillna('', inplace=True)\n",
    "model_data['common_genres'].fillna('', inplace=True)\n",
    "model_data['unpopular_genres'].fillna('', inplace=True)\n",
    "\n",
    "@app.get(\"/\")\n",
    "def test():\n",
    "    return {\"API STEAM GAMES ACTIVE\"}"
   ]
  },
  {
   "cell_type": "code",
   "execution_count": 16,
   "metadata": {},
   "outputs": [
    {
     "data": {
      "text/plain": [
       "{'recommendations': ['Zork Anthology',\n",
       "  'The Castles of Dr. Creep',\n",
       "  'Wasteland 1 - The Original Classic',\n",
       "  'Prehistorik',\n",
       "  'Dragon Wars']}"
      ]
     },
     "execution_count": 16,
     "metadata": {},
     "output_type": "execute_result"
    }
   ],
   "source": [
    "@app.get(\"/recommend/{title}\")\n",
    "def recommend_similar_games(title):\n",
    "\n",
    "    # Encuentra el índice del juego ingresado\n",
    "    game_index = model_data[model_data['title'] == title].index[0]\n",
    "\n",
    "    # Filtra los juegos basados en la fecha de lanzamiento\n",
    "    year = model_data[\"date\"].dt.year[game_index]\n",
    "    five_years_ago = year - 5\n",
    "    five_years_later = year + 5\n",
    "    filtered_data = model_data[(model_data[\"date\"].dt.year >= five_years_ago) & (model_data[\"date\"].dt.year <= five_years_later)]\n",
    "\n",
    "    # Filtra los juegos basados price category\n",
    "    price = model_data[\"price_discr\"][game_index]\n",
    "    upper_price = price + 1\n",
    "    lower_price = price - 1\n",
    "    filtered_data = filtered_data[(filtered_data[\"price_discr\"] >= lower_price) & (filtered_data[\"price_discr\"] <= upper_price)]\n",
    "    \n",
    "    filtered_data = filtered_data.reset_index(drop=True)\n",
    "    new_game_index = filtered_data[filtered_data['title'] == title].index[0]\n",
    "\n",
    "    # Create similarity matrix based on popular genres for filtered_data\n",
    "    popular_genres_matrix = vectorizer.fit_transform(filtered_data['popular_genres'])\n",
    "    popular_genres_similarity_matrix = cosine_similarity(popular_genres_matrix, popular_genres_matrix)\n",
    "    # Create similarity matrix based on common genres for filtered_data\n",
    "    common_genres_matrix = vectorizer.fit_transform(filtered_data['common_genres'])\n",
    "    common_genres_similarity_matrix = cosine_similarity(common_genres_matrix, common_genres_matrix)\n",
    "    # Create similarity matrix based on unpopular genres for filtered_data\n",
    "    unpopular_genres_matrix = vectorizer.fit_transform(filtered_data['unpopular_genres'])\n",
    "    unpopular_genres_similarity_matrix = cosine_similarity(unpopular_genres_matrix, unpopular_genres_matrix)\n",
    "    # Combine the similarity matrices for the three genre categories\n",
    "    similarity_matrix = popular_genres_similarity_matrix + common_genres_similarity_matrix + unpopular_genres_similarity_matrix\n",
    "\n",
    "    # Adjust the game indices for the filtered_data\n",
    "    similar_game_indices = similarity_matrix[new_game_index].argsort()[::-1][1:6]\n",
    "\n",
    "    # Obtain the names of similar games and their similarity scores\n",
    "    similar_game_scores = similarity_matrix[game_index][similar_game_indices]\n",
    "    similar_game_titles = filtered_data.iloc[similar_game_indices]['title'].tolist()\n",
    "\n",
    "    # Create a DataFrame with titles and similarity scores\n",
    "    similar_games_dict = {'recommendations': similar_game_titles}\n",
    "\n",
    "    return similar_games_dict\n",
    "\n",
    "recommend_similar_games(\"Alter Ego\")"
   ]
  },
  {
   "cell_type": "code",
   "execution_count": null,
   "metadata": {},
   "outputs": [
    {
     "data": {
      "text/plain": [
       "[{'Puesto 1': 'Team Fortress 2'},\n",
       " {'Puesto 2': 'Counter-Strike: Global Offensive'},\n",
       " {'Puesto 3': \"Garry's Mod\"}]"
      ]
     },
     "metadata": {},
     "output_type": "display_data"
    }
   ],
   "source": [
    "@app.get(\"/users_recommend/{year}\") # Devuelve el top 3 de juegos MÁS recomendados por usuarios para el año dado.\n",
    "def UsersRecommend(year: int):\n",
    "\n",
    "    year_reviews = australian_users_reviews[[\"item_id\", \"sentiment\", \"recommend\"]][(pd.to_datetime(australian_users_reviews['date']).dt.year == year) & (australian_users_reviews['sentiment'] >= 1)]\n",
    "    top_3_games = year_reviews[\"item_id\"].value_counts().head(3)\n",
    "    top_3_games = pd.DataFrame({'item_id': top_3_games.index, 'count': top_3_games.values})\n",
    "    top_3_games = pd.merge(left=top_3_games, right=steam_games[['item_id', 'title']], on='item_id', how='left')\n",
    "    most_recommended_games = [{\"Puesto 1\": top_3_games[\"title\"][0]}, {\"Puesto 2\": top_3_games[\"title\"][1]}, {\"Puesto 3\": top_3_games[\"title\"][2]}]\n",
    "    return most_recommended_games\n",
    "\n",
    "UsersRecommend(2014)"
   ]
  },
  {
   "cell_type": "code",
   "execution_count": null,
   "metadata": {},
   "outputs": [
    {
     "data": {
      "text/plain": [
       "[{'Puesto 1': 'Port of Call'},\n",
       " {'Puesto 2': 'Umbrella Corps™/Biohazard Umbrella Corps™'},\n",
       " {'Puesto 3': 'My Lands: Black Gem Hunting'}]"
      ]
     },
     "metadata": {},
     "output_type": "display_data"
    }
   ],
   "source": [
    "@app.get(\"/users_not_recommend/{year}\") # Devuelve el top 3 de juegos MENOS recomendados por usuarios para el año dado.\n",
    "def UsersNotRecommend(year: int):\n",
    "    year_reviews = australian_users_reviews[[\"item_id\", \"sentiment\", \"recommend\"]][(pd.to_datetime(australian_users_reviews['date']).dt.year == year) & (australian_users_reviews['sentiment'] >= 1)]\n",
    "    bot_3_games = year_reviews[\"item_id\"].value_counts().tail(3)\n",
    "    bot_3_games = pd.DataFrame({'item_id': bot_3_games.index, 'count': bot_3_games.values})\n",
    "    bot_3_games = pd.merge(left=bot_3_games, right=steam_games[['item_id', 'title']], on='item_id', how='left')\n",
    "    least_recommended_games = [{\"Puesto 1\": bot_3_games[\"title\"][0]}, {\"Puesto 2\": bot_3_games[\"title\"][1]}, {\"Puesto 3\": bot_3_games[\"title\"][2]}]\n",
    "    return least_recommended_games\n",
    "\n",
    "UsersNotRecommend(2014)"
   ]
  },
  {
   "cell_type": "code",
   "execution_count": null,
   "metadata": {},
   "outputs": [
    {
     "data": {
      "text/plain": [
       "{'Negative': 0, 'Neutral': 0, 'Positive': 0}"
      ]
     },
     "metadata": {},
     "output_type": "display_data"
    }
   ],
   "source": [
    "@app.get(\"/sentiment_analysis/{year}\") # Returns a list with the count of user review records categorized with sentiment analysis according to the given year \n",
    "def sentiment_analysis(year: int):\n",
    "    year_reviews = australian_users_reviews['sentiment'][pd.to_datetime(australian_users_reviews['date']).dt.year == year]\n",
    "    sentiment_count = {\"Negative\": 0, \"Neutral\": 0, \"Positive\": 0}\n",
    "    for rate in year_reviews:\n",
    "        if rate == 0:\n",
    "            sentiment_count[\"Negative\"] += 1\n",
    "        elif rate == 1:\n",
    "            sentiment_count[\"Neutral\"] += 1\n",
    "        elif rate == 2:\n",
    "            sentiment_count[\"Positive\"] += 1\n",
    "    return sentiment_count\n",
    "\n",
    "sentiment_analysis(2018)"
   ]
  }
 ],
 "metadata": {
  "kernelspec": {
   "display_name": "test",
   "language": "python",
   "name": "python3"
  },
  "language_info": {
   "codemirror_mode": {
    "name": "ipython",
    "version": 3
   },
   "file_extension": ".py",
   "mimetype": "text/x-python",
   "name": "python",
   "nbconvert_exporter": "python",
   "pygments_lexer": "ipython3",
   "version": "3.11.4"
  }
 },
 "nbformat": 4,
 "nbformat_minor": 2
}
